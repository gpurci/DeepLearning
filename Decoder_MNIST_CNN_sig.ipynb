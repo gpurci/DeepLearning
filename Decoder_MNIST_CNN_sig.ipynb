{
  "nbformat": 4,
  "nbformat_minor": 0,
  "metadata": {
    "accelerator": "GPU",
    "colab": {
      "name": "Decoder_MNIST_CNN_sig.ipynb",
      "provenance": [],
      "collapsed_sections": [
        "aAQjCF9E7sf6",
        "zzxDzUlzlaTC",
        "Q1Z5_xYClaTH"
      ]
    },
    "kernelspec": {
      "display_name": "Python 3",
      "language": "python",
      "name": "python3"
    },
    "language_info": {
      "codemirror_mode": {
        "name": "ipython",
        "version": 3
      },
      "file_extension": ".py",
      "mimetype": "text/x-python",
      "name": "python",
      "nbconvert_exporter": "python",
      "pygments_lexer": "ipython3",
      "version": "3.8.5"
    }
  },
  "cells": [
    {
      "cell_type": "markdown",
      "source": [
        "#Install library"
      ],
      "metadata": {
        "id": "aAQjCF9E7sf6"
      }
    },
    {
      "cell_type": "code",
      "source": [
        "!pip install livelossplot"
      ],
      "metadata": {
        "colab": {
          "base_uri": "https://localhost:8080/"
        },
        "id": "k_V68MRG7row",
        "outputId": "360bdc5e-91f3-48d6-a1a2-e124b2917eb6"
      },
      "execution_count": null,
      "outputs": [
        {
          "output_type": "stream",
          "name": "stdout",
          "text": [
            "Looking in indexes: https://pypi.org/simple, https://us-python.pkg.dev/colab-wheels/public/simple/\n",
            "Collecting livelossplot\n",
            "  Downloading livelossplot-0.5.5-py3-none-any.whl (22 kB)\n",
            "Requirement already satisfied: numpy<1.22 in /usr/local/lib/python3.7/dist-packages (from livelossplot) (1.21.6)\n",
            "Requirement already satisfied: bokeh in /usr/local/lib/python3.7/dist-packages (from livelossplot) (2.3.3)\n",
            "Collecting ipython==7.*\n",
            "  Downloading ipython-7.34.0-py3-none-any.whl (793 kB)\n",
            "\u001b[K     |████████████████████████████████| 793 kB 37.9 MB/s \n",
            "\u001b[?25hRequirement already satisfied: matplotlib in /usr/local/lib/python3.7/dist-packages (from livelossplot) (3.2.2)\n",
            "Requirement already satisfied: matplotlib-inline in /usr/local/lib/python3.7/dist-packages (from ipython==7.*->livelossplot) (0.1.3)\n",
            "Requirement already satisfied: decorator in /usr/local/lib/python3.7/dist-packages (from ipython==7.*->livelossplot) (4.4.2)\n",
            "Requirement already satisfied: pickleshare in /usr/local/lib/python3.7/dist-packages (from ipython==7.*->livelossplot) (0.7.5)\n",
            "Requirement already satisfied: traitlets>=4.2 in /usr/local/lib/python3.7/dist-packages (from ipython==7.*->livelossplot) (5.1.1)\n",
            "Requirement already satisfied: backcall in /usr/local/lib/python3.7/dist-packages (from ipython==7.*->livelossplot) (0.2.0)\n",
            "Requirement already satisfied: jedi>=0.16 in /usr/local/lib/python3.7/dist-packages (from ipython==7.*->livelossplot) (0.18.1)\n",
            "Requirement already satisfied: pygments in /usr/local/lib/python3.7/dist-packages (from ipython==7.*->livelossplot) (2.6.1)\n",
            "Requirement already satisfied: setuptools>=18.5 in /usr/local/lib/python3.7/dist-packages (from ipython==7.*->livelossplot) (57.4.0)\n",
            "Collecting prompt-toolkit!=3.0.0,!=3.0.1,<3.1.0,>=2.0.0\n",
            "  Downloading prompt_toolkit-3.0.30-py3-none-any.whl (381 kB)\n",
            "\u001b[K     |████████████████████████████████| 381 kB 19.5 MB/s \n",
            "\u001b[?25hRequirement already satisfied: pexpect>4.3 in /usr/local/lib/python3.7/dist-packages (from ipython==7.*->livelossplot) (4.8.0)\n",
            "Requirement already satisfied: parso<0.9.0,>=0.8.0 in /usr/local/lib/python3.7/dist-packages (from jedi>=0.16->ipython==7.*->livelossplot) (0.8.3)\n",
            "Requirement already satisfied: ptyprocess>=0.5 in /usr/local/lib/python3.7/dist-packages (from pexpect>4.3->ipython==7.*->livelossplot) (0.7.0)\n",
            "Requirement already satisfied: wcwidth in /usr/local/lib/python3.7/dist-packages (from prompt-toolkit!=3.0.0,!=3.0.1,<3.1.0,>=2.0.0->ipython==7.*->livelossplot) (0.2.5)\n",
            "Requirement already satisfied: Jinja2>=2.9 in /usr/local/lib/python3.7/dist-packages (from bokeh->livelossplot) (2.11.3)\n",
            "Requirement already satisfied: PyYAML>=3.10 in /usr/local/lib/python3.7/dist-packages (from bokeh->livelossplot) (3.13)\n",
            "Requirement already satisfied: python-dateutil>=2.1 in /usr/local/lib/python3.7/dist-packages (from bokeh->livelossplot) (2.8.2)\n",
            "Requirement already satisfied: tornado>=5.1 in /usr/local/lib/python3.7/dist-packages (from bokeh->livelossplot) (5.1.1)\n",
            "Requirement already satisfied: packaging>=16.8 in /usr/local/lib/python3.7/dist-packages (from bokeh->livelossplot) (21.3)\n",
            "Requirement already satisfied: typing-extensions>=3.7.4 in /usr/local/lib/python3.7/dist-packages (from bokeh->livelossplot) (4.1.1)\n",
            "Requirement already satisfied: pillow>=7.1.0 in /usr/local/lib/python3.7/dist-packages (from bokeh->livelossplot) (7.1.2)\n",
            "Requirement already satisfied: MarkupSafe>=0.23 in /usr/local/lib/python3.7/dist-packages (from Jinja2>=2.9->bokeh->livelossplot) (2.0.1)\n",
            "Requirement already satisfied: pyparsing!=3.0.5,>=2.0.2 in /usr/local/lib/python3.7/dist-packages (from packaging>=16.8->bokeh->livelossplot) (3.0.9)\n",
            "Requirement already satisfied: six>=1.5 in /usr/local/lib/python3.7/dist-packages (from python-dateutil>=2.1->bokeh->livelossplot) (1.15.0)\n",
            "Requirement already satisfied: kiwisolver>=1.0.1 in /usr/local/lib/python3.7/dist-packages (from matplotlib->livelossplot) (1.4.4)\n",
            "Requirement already satisfied: cycler>=0.10 in /usr/local/lib/python3.7/dist-packages (from matplotlib->livelossplot) (0.11.0)\n",
            "Installing collected packages: prompt-toolkit, ipython, livelossplot\n",
            "  Attempting uninstall: prompt-toolkit\n",
            "    Found existing installation: prompt-toolkit 1.0.18\n",
            "    Uninstalling prompt-toolkit-1.0.18:\n",
            "      Successfully uninstalled prompt-toolkit-1.0.18\n",
            "  Attempting uninstall: ipython\n",
            "    Found existing installation: ipython 5.5.0\n",
            "    Uninstalling ipython-5.5.0:\n",
            "      Successfully uninstalled ipython-5.5.0\n",
            "\u001b[31mERROR: pip's dependency resolver does not currently take into account all the packages that are installed. This behaviour is the source of the following dependency conflicts.\n",
            "jupyter-console 5.2.0 requires prompt-toolkit<2.0.0,>=1.0.0, but you have prompt-toolkit 3.0.30 which is incompatible.\n",
            "google-colab 1.0.0 requires ipython~=5.5.0, but you have ipython 7.34.0 which is incompatible.\u001b[0m\n",
            "Successfully installed ipython-7.34.0 livelossplot-0.5.5 prompt-toolkit-3.0.30\n"
          ]
        },
        {
          "output_type": "display_data",
          "data": {
            "application/vnd.colab-display-data+json": {
              "pip_warning": {
                "packages": [
                  "IPython",
                  "prompt_toolkit"
                ]
              }
            }
          },
          "metadata": {}
        }
      ]
    },
    {
      "cell_type": "markdown",
      "metadata": {
        "id": "zzxDzUlzlaTC"
      },
      "source": [
        "#Import library"
      ]
    },
    {
      "cell_type": "code",
      "metadata": {
        "id": "dBKP8ZyjVnUk"
      },
      "source": [
        "from livelossplot import PlotLossesKerasTF\n",
        "from keras.datasets import mnist\n",
        "#%config Completer.use_jedi = False\n",
        "from matplotlib import pyplot as plt\n",
        "import numpy as np\n",
        "from tensorflow.keras.utils import to_categorical"
      ],
      "execution_count": null,
      "outputs": []
    },
    {
      "cell_type": "code",
      "metadata": {
        "id": "QRSjlO8YlaTD"
      },
      "source": [
        "import tensorflow as tf\n",
        "#Train the model\n",
        "physical_devices = tf.config.experimental.list_physical_devices('GPU')\n",
        "assert len(physical_devices) > 0, \"Not enough GPU hardware devices available\"\n",
        "config = tf.config.experimental.set_memory_growth(physical_devices[0], True)"
      ],
      "execution_count": null,
      "outputs": []
    },
    {
      "cell_type": "markdown",
      "metadata": {
        "id": "Q1Z5_xYClaTH"
      },
      "source": [
        "# Collect Data"
      ]
    },
    {
      "cell_type": "code",
      "metadata": {
        "id": "6AOgxO3AlaTI",
        "colab": {
          "base_uri": "https://localhost:8080/"
        },
        "outputId": "461378fd-b870-430d-9d65-6974a1bf21ec"
      },
      "source": [
        "(X_train, Y_train), (X_test, Y_test) = tf.keras.datasets.mnist.load_data()"
      ],
      "execution_count": null,
      "outputs": [
        {
          "output_type": "stream",
          "name": "stdout",
          "text": [
            "Downloading data from https://storage.googleapis.com/tensorflow/tf-keras-datasets/mnist.npz\n",
            "11493376/11490434 [==============================] - 0s 0us/step\n",
            "11501568/11490434 [==============================] - 0s 0us/step\n"
          ]
        }
      ]
    },
    {
      "cell_type": "code",
      "source": [
        "X_train = X_train / 255.\n",
        "X_test  = X_test  / 255.    # standardize the data for train and test to be between 0-1"
      ],
      "metadata": {
        "id": "AKTx4HY09ikP"
      },
      "execution_count": null,
      "outputs": []
    },
    {
      "cell_type": "markdown",
      "metadata": {
        "id": "BZtz_GoBlaTQ"
      },
      "source": [
        "### Convert Output label to multiple values"
      ]
    },
    {
      "cell_type": "code",
      "source": [
        "# one hot encoding outcome\n",
        "target_train = to_categorical(Y_train)\n",
        "target_test  = to_categorical(Y_test)"
      ],
      "metadata": {
        "id": "MQlQgTPYt3pV"
      },
      "execution_count": null,
      "outputs": []
    },
    {
      "cell_type": "markdown",
      "metadata": {
        "id": "zyLCiNu2laTT"
      },
      "source": [
        "# Build the Graph"
      ]
    },
    {
      "cell_type": "code",
      "source": [
        "from tensorflow.keras import Input\n",
        "from tensorflow.keras.layers import Dense, Reshape, BatchNormalization, Conv2D, Conv2DTranspose, Conv1D, MaxPool2D, Flatten\n",
        "from tensorflow.keras import Model"
      ],
      "metadata": {
        "id": "eR69DOn0Mjsr"
      },
      "execution_count": null,
      "outputs": []
    },
    {
      "cell_type": "code",
      "source": [
        "target_train.shape"
      ],
      "metadata": {
        "colab": {
          "base_uri": "https://localhost:8080/"
        },
        "id": "ZAmb7H7Hg2Tl",
        "outputId": "9d3f4598-f2ab-4d2a-f20d-99129bce137a"
      },
      "execution_count": null,
      "outputs": [
        {
          "output_type": "execute_result",
          "data": {
            "text/plain": [
              "(60000, 10)"
            ]
          },
          "metadata": {},
          "execution_count": 8
        }
      ]
    },
    {
      "cell_type": "code",
      "source": [
        "input_img = Input(shape=(10),\n",
        "#    batch_size=100,\n",
        "    name=\"test\",\n",
        "    dtype=np.float32,\n",
        "    )"
      ],
      "metadata": {
        "id": "ji5Dsc0XzweE"
      },
      "execution_count": null,
      "outputs": []
    },
    {
      "cell_type": "code",
      "source": [
        "flatten_input = Dense(784, activation=\"relu\")(input_img)\n",
        "reshape_input = Reshape((28, 28, 1), input_shape=(784,))(flatten_input)\n",
        "conv_2d_trans = Conv2DTranspose(32, kernel_size=3, activation='relu')(reshape_input)\n",
        "conv_2d_trans = Conv2DTranspose(64, kernel_size=3, activation='relu')(conv_2d_trans)\n",
        "flatten_layer = Flatten()(conv_2d_trans)\n",
        "decoder       = Dense(784, activation=\"sigmoid\")(flatten_layer)\n",
        "decoder       = Reshape((28, 28, 1), input_shape=(784,))(decoder)"
      ],
      "metadata": {
        "id": "VCDUOCyt-cXi"
      },
      "execution_count": null,
      "outputs": []
    },
    {
      "cell_type": "code",
      "source": [
        "decoder_model = Model(input_img, decoder)"
      ],
      "metadata": {
        "id": "GDQrTo_fdR5k"
      },
      "execution_count": null,
      "outputs": []
    },
    {
      "cell_type": "code",
      "source": [
        "decoder_model.summary()"
      ],
      "metadata": {
        "colab": {
          "base_uri": "https://localhost:8080/"
        },
        "id": "be1yt1NtdmWa",
        "outputId": "9bbc0578-c49d-4fdd-ca2e-2b801b2434ad"
      },
      "execution_count": null,
      "outputs": [
        {
          "output_type": "stream",
          "name": "stdout",
          "text": [
            "Model: \"model_1\"\n",
            "_________________________________________________________________\n",
            " Layer (type)                Output Shape              Param #   \n",
            "=================================================================\n",
            " test (InputLayer)           [(None, 10)]              0         \n",
            "                                                                 \n",
            " dense_2 (Dense)             (None, 784)               8624      \n",
            "                                                                 \n",
            " reshape_2 (Reshape)         (None, 28, 28, 1)         0         \n",
            "                                                                 \n",
            " conv2d_transpose_2 (Conv2DT  (None, 30, 30, 32)       320       \n",
            " ranspose)                                                       \n",
            "                                                                 \n",
            " conv2d_transpose_3 (Conv2DT  (None, 32, 32, 64)       18496     \n",
            " ranspose)                                                       \n",
            "                                                                 \n",
            " flatten_1 (Flatten)         (None, 65536)             0         \n",
            "                                                                 \n",
            " dense_3 (Dense)             (None, 784)               51381008  \n",
            "                                                                 \n",
            " reshape_3 (Reshape)         (None, 28, 28, 1)         0         \n",
            "                                                                 \n",
            "=================================================================\n",
            "Total params: 51,408,448\n",
            "Trainable params: 51,408,448\n",
            "Non-trainable params: 0\n",
            "_________________________________________________________________\n"
          ]
        }
      ]
    },
    {
      "cell_type": "code",
      "source": [
        "decoder_model.compile(optimizer='adam', \n",
        "              loss='categorical_crossentropy', metrics=['accuracy'])"
      ],
      "metadata": {
        "id": "sC0G8r3TBSVa"
      },
      "execution_count": null,
      "outputs": []
    },
    {
      "cell_type": "code",
      "metadata": {
        "colab": {
          "base_uri": "https://localhost:8080/",
          "height": 724
        },
        "id": "FsJI729klaTo",
        "outputId": "c641fc3c-461e-48e0-958b-43cf1c1b522a"
      },
      "source": [
        "decoder_model.fit(target_train, X_train,         \n",
        "          validation_data=(target_test, X_test),\n",
        "          epochs=20,\n",
        "          batch_size=100,\n",
        "          callbacks=[PlotLossesKerasTF()])"
      ],
      "execution_count": null,
      "outputs": [
        {
          "output_type": "display_data",
          "data": {
            "text/plain": [
              "<Figure size 864x576 with 2 Axes>"
            ],
            "image/png": "[encoded data removed]"
          },
          "metadata": {
            "needs_background": "light"
          }
        },
        {
          "output_type": "stream",
          "name": "stdout",
          "text": [
            "accuracy\n",
            "\ttraining         \t (min:    0.648, max:    0.685, cur:    0.685)\n",
            "\tvalidation       \t (min:    0.668, max:    0.688, cur:    0.688)\n",
            "Loss\n",
            "\ttraining         \t (min:    9.710, max:    9.797, cur:    9.710)\n",
            "\tvalidation       \t (min:    9.793, max:    9.816, cur:    9.793)\n",
            "\b\b\b\b\b\b\b\b\b\b\b\b\b\b\b\b\b\b\b\b\b\b\b\b\b\b\b\b\b\b\b\b\b\b\b\b\b\b\b\b\b\b\b\b\b\b\b\b\b\b\b\b\b\b\b\b\b\b\b\b\b\b\b\b\b\b\b\b\b\b\b\b\b\b\b\b\b\b\b\b\b\b\b\b\r600/600 [==============================] - 16s 27ms/step - loss: 9.7101 - accuracy: 0.6854 - val_loss: 9.7932 - val_accuracy: 0.6878\n"
          ]
        },
        {
          "output_type": "execute_result",
          "data": {
            "text/plain": [
              "<keras.callbacks.History at 0x7f31401e9b50>"
            ]
          },
          "metadata": {},
          "execution_count": 22
        }
      ]
    },
    {
      "cell_type": "code",
      "source": [
        "noise_factor = 0.2\n",
        "test_data = to_categorical(np.arange(10)) + noise_factor * np.random.uniform(low=0.0, high=1.0, size=(10)) \n",
        "test_data = to_categorical(np.arange(10))"
      ],
      "metadata": {
        "id": "0MkvVNyKW0HG"
      },
      "execution_count": null,
      "outputs": []
    },
    {
      "cell_type": "code",
      "source": [
        "data_pred"
      ],
      "metadata": {
        "colab": {
          "base_uri": "https://localhost:8080/"
        },
        "id": "HKkDTwdTeSTi",
        "outputId": "96f2df6b-ec76-4499-ca10-d5ef095b7594"
      },
      "execution_count": null,
      "outputs": [
        {
          "output_type": "execute_result",
          "data": {
            "text/plain": [
              "array([[[[1.43092573e-01],\n",
              "         [1.43817633e-01],\n",
              "         [1.43090144e-01],\n",
              "         ...,\n",
              "         [1.42236516e-01],\n",
              "         [1.43929601e-01],\n",
              "         [1.42602578e-01]],\n",
              "\n",
              "        [[5.66769904e-03],\n",
              "         [5.64899901e-03],\n",
              "         [5.65207796e-03],\n",
              "         ...,\n",
              "         [5.65483607e-03],\n",
              "         [5.69356512e-03],\n",
              "         [5.64436754e-03]],\n",
              "\n",
              "        [[1.31729967e-03],\n",
              "         [1.31977175e-03],\n",
              "         [4.33852850e-03],\n",
              "         ...,\n",
              "         [8.39288067e-03],\n",
              "         [1.31361489e-03],\n",
              "         [1.31527067e-03]],\n",
              "\n",
              "        ...,\n",
              "\n",
              "        [[4.34779882e-04],\n",
              "         [4.38470655e-04],\n",
              "         [8.22141883e-04],\n",
              "         ...,\n",
              "         [1.09318295e-03],\n",
              "         [1.13442936e-03],\n",
              "         [4.31666675e-04]],\n",
              "\n",
              "        [[4.23294213e-03],\n",
              "         [4.22006985e-03],\n",
              "         [4.23600012e-03],\n",
              "         ...,\n",
              "         [1.00789862e-02],\n",
              "         [4.26610885e-03],\n",
              "         [4.23531840e-03]],\n",
              "\n",
              "        [[2.51870360e-02],\n",
              "         [2.53073052e-02],\n",
              "         [2.51642503e-02],\n",
              "         ...,\n",
              "         [2.47275941e-02],\n",
              "         [2.53027659e-02],\n",
              "         [2.52584517e-02]]],\n",
              "\n",
              "\n",
              "       [[[1.04729190e-01],\n",
              "         [1.04755767e-01],\n",
              "         [1.06721021e-01],\n",
              "         ...,\n",
              "         [1.05058827e-01],\n",
              "         [1.05192192e-01],\n",
              "         [1.05697982e-01]],\n",
              "\n",
              "        [[1.76502159e-03],\n",
              "         [1.78733002e-03],\n",
              "         [1.77747570e-03],\n",
              "         ...,\n",
              "         [1.78606971e-03],\n",
              "         [1.78262568e-03],\n",
              "         [1.79702637e-03]],\n",
              "\n",
              "        [[2.05787117e-04],\n",
              "         [2.07739431e-04],\n",
              "         [5.46841649e-04],\n",
              "         ...,\n",
              "         [9.78273572e-04],\n",
              "         [2.09314923e-04],\n",
              "         [2.07096891e-04]],\n",
              "\n",
              "        ...,\n",
              "\n",
              "        [[1.97708414e-05],\n",
              "         [2.00086961e-05],\n",
              "         [8.93879405e-05],\n",
              "         ...,\n",
              "         [9.47953231e-05],\n",
              "         [5.22875125e-05],\n",
              "         [1.98872513e-05]],\n",
              "\n",
              "        [[1.69943683e-04],\n",
              "         [1.67129227e-04],\n",
              "         [1.63856079e-04],\n",
              "         ...,\n",
              "         [6.66543492e-04],\n",
              "         [1.62124634e-04],\n",
              "         [1.66312122e-04]],\n",
              "\n",
              "        [[2.43815291e-03],\n",
              "         [2.46289931e-03],\n",
              "         [2.50161951e-03],\n",
              "         ...,\n",
              "         [2.40436243e-03],\n",
              "         [2.45650043e-03],\n",
              "         [2.43969145e-03]]],\n",
              "\n",
              "\n",
              "       [[[5.25953285e-02],\n",
              "         [5.25281876e-02],\n",
              "         [5.26729114e-02],\n",
              "         ...,\n",
              "         [5.25958091e-02],\n",
              "         [5.24513908e-02],\n",
              "         [5.25361039e-02]],\n",
              "\n",
              "        [[1.97056262e-03],\n",
              "         [1.97754358e-03],\n",
              "         [1.96919939e-03],\n",
              "         ...,\n",
              "         [1.98261393e-03],\n",
              "         [1.97244273e-03],\n",
              "         [1.97341084e-03]],\n",
              "\n",
              "        [[1.36686198e-04],\n",
              "         [1.36748262e-04],\n",
              "         [3.28317459e-04],\n",
              "         ...,\n",
              "         [6.97046984e-03],\n",
              "         [1.36854185e-04],\n",
              "         [1.36946866e-04]],\n",
              "\n",
              "        ...,\n",
              "\n",
              "        [[2.60818051e-04],\n",
              "         [2.59566237e-04],\n",
              "         [8.90349213e-04],\n",
              "         ...,\n",
              "         [1.80133916e-02],\n",
              "         [2.27526445e-02],\n",
              "         [2.61160691e-04]],\n",
              "\n",
              "        [[2.75988132e-03],\n",
              "         [2.77904770e-03],\n",
              "         [2.77385139e-03],\n",
              "         ...,\n",
              "         [6.92931004e-03],\n",
              "         [2.77893152e-03],\n",
              "         [2.77800672e-03]],\n",
              "\n",
              "        [[1.98228601e-02],\n",
              "         [1.95751619e-02],\n",
              "         [1.98426973e-02],\n",
              "         ...,\n",
              "         [1.96211170e-02],\n",
              "         [1.97386034e-02],\n",
              "         [1.96254998e-02]]],\n",
              "\n",
              "\n",
              "       ...,\n",
              "\n",
              "\n",
              "       [[[1.35276183e-01],\n",
              "         [1.34998173e-01],\n",
              "         [1.36571929e-01],\n",
              "         ...,\n",
              "         [1.36107817e-01],\n",
              "         [1.35547146e-01],\n",
              "         [1.36168391e-01]],\n",
              "\n",
              "        [[7.19286501e-03],\n",
              "         [7.24685658e-03],\n",
              "         [7.12326309e-03],\n",
              "         ...,\n",
              "         [7.26634404e-03],\n",
              "         [7.23751402e-03],\n",
              "         [7.19947414e-03]],\n",
              "\n",
              "        [[1.18858181e-03],\n",
              "         [1.19486428e-03],\n",
              "         [3.89771722e-03],\n",
              "         ...,\n",
              "         [7.09299557e-03],\n",
              "         [1.18850183e-03],\n",
              "         [1.17764121e-03]],\n",
              "\n",
              "        ...,\n",
              "\n",
              "        [[3.95139932e-06],\n",
              "         [3.94194876e-06],\n",
              "         [1.25194492e-05],\n",
              "         ...,\n",
              "         [1.62245506e-05],\n",
              "         [6.91644755e-06],\n",
              "         [3.94878543e-06]],\n",
              "\n",
              "        [[1.00184116e-05],\n",
              "         [1.00058460e-05],\n",
              "         [1.00154211e-05],\n",
              "         ...,\n",
              "         [2.11324063e-04],\n",
              "         [1.00074012e-05],\n",
              "         [1.00144853e-05]],\n",
              "\n",
              "        [[1.04925690e-04],\n",
              "         [1.04852166e-04],\n",
              "         [1.04949111e-04],\n",
              "         ...,\n",
              "         [1.04984749e-04],\n",
              "         [1.04711798e-04],\n",
              "         [1.04852574e-04]]],\n",
              "\n",
              "\n",
              "       [[[1.12921685e-01],\n",
              "         [1.11707933e-01],\n",
              "         [1.13423184e-01],\n",
              "         ...,\n",
              "         [1.13384992e-01],\n",
              "         [1.13133445e-01],\n",
              "         [1.13461733e-01]],\n",
              "\n",
              "        [[5.17487666e-03],\n",
              "         [5.19138714e-03],\n",
              "         [5.10216039e-03],\n",
              "         ...,\n",
              "         [5.23958681e-03],\n",
              "         [5.21292537e-03],\n",
              "         [5.16802026e-03]],\n",
              "\n",
              "        [[6.28711830e-04],\n",
              "         [6.40288286e-04],\n",
              "         [2.04892131e-03],\n",
              "         ...,\n",
              "         [6.04474545e-03],\n",
              "         [6.37084362e-04],\n",
              "         [6.35323231e-04]],\n",
              "\n",
              "        ...,\n",
              "\n",
              "        [[2.97319439e-05],\n",
              "         [2.95751652e-05],\n",
              "         [7.55468791e-05],\n",
              "         ...,\n",
              "         [1.22951780e-04],\n",
              "         [8.61829030e-05],\n",
              "         [2.96420585e-05]],\n",
              "\n",
              "        [[5.64795046e-04],\n",
              "         [5.66989766e-04],\n",
              "         [5.66921663e-04],\n",
              "         ...,\n",
              "         [1.54466543e-03],\n",
              "         [5.67965209e-04],\n",
              "         [5.66653966e-04]],\n",
              "\n",
              "        [[8.28757603e-03],\n",
              "         [8.23678728e-03],\n",
              "         [8.36058054e-03],\n",
              "         ...,\n",
              "         [8.22163280e-03],\n",
              "         [8.30549747e-03],\n",
              "         [8.30329116e-03]]],\n",
              "\n",
              "\n",
              "       [[[1.05376929e-01],\n",
              "         [1.04756266e-01],\n",
              "         [1.05383106e-01],\n",
              "         ...,\n",
              "         [1.05544135e-01],\n",
              "         [1.05443716e-01],\n",
              "         [1.05284147e-01]],\n",
              "\n",
              "        [[3.50392959e-03],\n",
              "         [3.52643151e-03],\n",
              "         [3.44361924e-03],\n",
              "         ...,\n",
              "         [3.49791953e-03],\n",
              "         [3.47012491e-03],\n",
              "         [3.47263552e-03]],\n",
              "\n",
              "        [[3.83280247e-04],\n",
              "         [3.82474711e-04],\n",
              "         [1.73898425e-03],\n",
              "         ...,\n",
              "         [4.25718958e-03],\n",
              "         [3.85179330e-04],\n",
              "         [3.84977029e-04]],\n",
              "\n",
              "        ...,\n",
              "\n",
              "        [[3.49674042e-06],\n",
              "         [3.51533731e-06],\n",
              "         [6.31704388e-05],\n",
              "         ...,\n",
              "         [2.70629564e-04],\n",
              "         [6.27322515e-06],\n",
              "         [3.51217045e-06]],\n",
              "\n",
              "        [[1.67972430e-05],\n",
              "         [1.67619601e-05],\n",
              "         [1.68501883e-05],\n",
              "         ...,\n",
              "         [5.36601365e-05],\n",
              "         [1.67818089e-05],\n",
              "         [1.67764319e-05]],\n",
              "\n",
              "        [[6.90058572e-04],\n",
              "         [6.86314015e-04],\n",
              "         [6.86824729e-04],\n",
              "         ...,\n",
              "         [6.88371540e-04],\n",
              "         [6.87592954e-04],\n",
              "         [6.85016566e-04]]]], dtype=float32)"
            ]
          },
          "metadata": {},
          "execution_count": 38
        }
      ]
    },
    {
      "cell_type": "code",
      "source": [
        "data_pred = decoder_model.predict(test_data)"
      ],
      "metadata": {
        "id": "wJ6uuLuyW3oc"
      },
      "execution_count": null,
      "outputs": []
    },
    {
      "cell_type": "code",
      "source": [
        "data_pred.shape"
      ],
      "metadata": {
        "colab": {
          "base_uri": "https://localhost:8080/"
        },
        "id": "ehdxh-4xkQuk",
        "outputId": "63d85b33-2ac6-427a-9ae8-efe262c211c0"
      },
      "execution_count": null,
      "outputs": [
        {
          "output_type": "execute_result",
          "data": {
            "text/plain": [
              "(10, 28, 28, 1)"
            ]
          },
          "metadata": {},
          "execution_count": 101
        }
      ]
    },
    {
      "cell_type": "code",
      "source": [
        "n = 10\n",
        "plt.figure(figsize=(20, 4))\n",
        "for i in range(n):\n",
        "\n",
        "    # display original + noise\n",
        "    ax = plt.subplot(2, n, i + 1)\n",
        "    plt.title(\"CNN D Digit \" + str(i))\n",
        "    plt.imshow(tf.squeeze(data_pred[i]))\n",
        "    plt.gray()\n",
        "    ax.get_xaxis().set_visible(False)\n",
        "    ax.get_yaxis().set_visible(False)"
      ],
      "metadata": {
        "colab": {
          "base_uri": "https://localhost:8080/",
          "height": 145
        },
        "id": "PzVQcoULkh2i",
        "outputId": "efb8836a-368a-4dd9-8524-fab98727445d"
      },
      "execution_count": null,
      "outputs": [
        {
          "output_type": "display_data",
          "data": {
            "text/plain": [
              "<Figure size 1440x288 with 10 Axes>"
            ],
            "image/png": "[encoded data removed]"
          },
          "metadata": {
            "needs_background": "light"
          }
        }
      ]
    }
  ]
}